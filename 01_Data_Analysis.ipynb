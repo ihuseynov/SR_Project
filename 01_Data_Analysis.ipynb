{
 "cells": [
  {
   "cell_type": "code",
   "execution_count": 7,
   "id": "40e49799-1868-4c71-a9a0-3c6431c02d05",
   "metadata": {},
   "outputs": [
    {
     "name": "stderr",
     "output_type": "stream",
     "text": [
      "/Users/huseynov/.cache/huggingface/modules/datasets_modules/datasets/common_voice/220833898d6a60c50f621126e51fb22eb2dfe5244392c70dccd8e6e2f055f4bf/common_voice.py:634: FutureWarning: \n",
      "            This version of the Common Voice dataset is deprecated.\n",
      "            You can download the latest one with\n",
      "            >>> load_dataset(\"mozilla-foundation/common_voice_11_0\", \"en\")\n",
      "            \n",
      "  warnings.warn(\n",
      "Found cached dataset common_voice (/Users/huseynov/.cache/huggingface/datasets/common_voice/tr/6.1.0/220833898d6a60c50f621126e51fb22eb2dfe5244392c70dccd8e6e2f055f4bf)\n",
      "Found cached dataset common_voice (/Users/huseynov/.cache/huggingface/datasets/common_voice/tr/6.1.0/220833898d6a60c50f621126e51fb22eb2dfe5244392c70dccd8e6e2f055f4bf)\n"
     ]
    }
   ],
   "source": [
    "from datasets import load_dataset\n",
    "\n",
    "# small Dataset\n",
    "common_voice_small_train = load_dataset(\"common_voice\", \"tr\", split=\"train+validation\")\n",
    "common_voice_small_test = load_dataset(\"common_voice\", \"tr\", split=\"test\")"
   ]
  },
  {
   "cell_type": "code",
   "execution_count": 12,
   "id": "3c117b9a-e88e-4aeb-8a24-9f97803c82b4",
   "metadata": {},
   "outputs": [
    {
     "name": "stdout",
     "output_type": "stream",
     "text": [
      "Length of small data(train + valid): 3478, length of test data: 1647\n"
     ]
    }
   ],
   "source": [
    "print(f\"Length of small data(train + valid): {len(common_voice_small_train)}, length of test data: {len(common_voice_small_test)}\")"
   ]
  },
  {
   "cell_type": "code",
   "execution_count": 13,
   "id": "d3284d1d-a1af-4926-840e-87f8096ff598",
   "metadata": {},
   "outputs": [
    {
     "name": "stderr",
     "output_type": "stream",
     "text": [
      "Found cached dataset common_voice_11_0 (/Users/huseynov/.cache/huggingface/datasets/mozilla-foundation___common_voice_11_0/tr/11.0.0/3f27acf10f303eac5b6fbbbe02495aeddb46ecffdb0a2fe3507fcfbf89094631)\n",
      "Found cached dataset common_voice_11_0 (/Users/huseynov/.cache/huggingface/datasets/mozilla-foundation___common_voice_11_0/tr/11.0.0/3f27acf10f303eac5b6fbbbe02495aeddb46ecffdb0a2fe3507fcfbf89094631)\n"
     ]
    }
   ],
   "source": [
    "# Large dataset\n",
    "common_voice_big_train = load_dataset(\"mozilla-foundation/common_voice_11_0\", \"tr\", split=\"train+validation\")\n",
    "common_voice_big_test = load_dataset(\"mozilla-foundation/common_voice_11_0\", \"tr\", split=\"test\")"
   ]
  },
  {
   "cell_type": "code",
   "execution_count": 14,
   "id": "0a5f531f-88fd-42ed-abe9-9837dff9fe9d",
   "metadata": {},
   "outputs": [
    {
     "name": "stdout",
     "output_type": "stream",
     "text": [
      "Length of small data(train + valid): 36125, length of test data: 10143\n"
     ]
    }
   ],
   "source": [
    "print(f\"Length of large data(train + valid): {len(common_voice_big_train)}, length of test data: {len(common_voice_big_test)}\")"
   ]
  },
  {
   "cell_type": "markdown",
   "id": "962f9ed9-c07f-4a02-8f0f-ce021b72c3b3",
   "metadata": {},
   "source": [
    "The large data is almost 10 times more than previous one we will compare both datasets.\n",
    "\n",
    "Now, lets look into the structure of the data"
   ]
  },
  {
   "cell_type": "code",
   "execution_count": 15,
   "id": "b492d425-c0c3-4304-8feb-bb5df4ac11cd",
   "metadata": {},
   "outputs": [
    {
     "data": {
      "text/plain": [
       "Dataset({\n",
       "    features: ['client_id', 'path', 'audio', 'sentence', 'up_votes', 'down_votes', 'age', 'gender', 'accent', 'locale', 'segment'],\n",
       "    num_rows: 36125\n",
       "})"
      ]
     },
     "execution_count": 15,
     "metadata": {},
     "output_type": "execute_result"
    }
   ],
   "source": [
    "common_voice_big_train"
   ]
  },
  {
   "cell_type": "code",
   "execution_count": 17,
   "id": "4360ab3f-e0ce-4765-a2ba-feb2999ecb14",
   "metadata": {},
   "outputs": [
    {
     "data": {
      "text/plain": [
       "'/Users/huseynov/.cache/huggingface/datasets/downloads/extracted/a512e9d0490b4edabcc12d4ccba8a00a63d0f9f70dfa02a5b2996bbfffb6bf45/tr_train_0/common_voice_tr_28856093.mp3'"
      ]
     },
     "execution_count": 17,
     "metadata": {},
     "output_type": "execute_result"
    }
   ],
   "source": [
    "common_voice_big_train[\"path\"][0] # path for mp3"
   ]
  },
  {
   "cell_type": "code",
   "execution_count": 19,
   "id": "6529471d-9924-45a6-af35-7a0903eb9a71",
   "metadata": {},
   "outputs": [
    {
     "data": {
      "text/plain": [
       "'Sadece birkaç gün.'"
      ]
     },
     "execution_count": 19,
     "metadata": {},
     "output_type": "execute_result"
    }
   ],
   "source": [
    "common_voice_big_train[\"sentence\"][0]"
   ]
  },
  {
   "cell_type": "markdown",
   "id": "a5ae621b-d6a7-49a9-8fb3-5b1cfa949bcc",
   "metadata": {},
   "source": [
    "We wll move to the training notebook we will explore the data more and train our models"
   ]
  },
  {
   "cell_type": "code",
   "execution_count": null,
   "id": "57539451-7c2e-4ee8-8746-13ad72e5b0e3",
   "metadata": {},
   "outputs": [],
   "source": []
  }
 ],
 "metadata": {
  "kernelspec": {
   "display_name": "Python 3 (ipykernel)",
   "language": "python",
   "name": "python3"
  },
  "language_info": {
   "codemirror_mode": {
    "name": "ipython",
    "version": 3
   },
   "file_extension": ".py",
   "mimetype": "text/x-python",
   "name": "python",
   "nbconvert_exporter": "python",
   "pygments_lexer": "ipython3",
   "version": "3.9.12"
  }
 },
 "nbformat": 4,
 "nbformat_minor": 5
}
